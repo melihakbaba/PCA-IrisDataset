{
 "cells": [
  {
   "cell_type": "code",
   "execution_count": 1,
   "id": "c3cce3a9",
   "metadata": {},
   "outputs": [],
   "source": [
    "import warnings\n",
    "warnings.filterwarnings(\"ignore\")\n",
    "\n",
    "import pandas as pd\n",
    "import numpy as np\n",
    "from scipy import stats\n",
    "import matplotlib.pyplot as plt\n",
    "import seaborn as sns\n",
    "from sklearn.preprocessing import StandardScaler"
   ]
  },
  {
   "cell_type": "markdown",
   "id": "77b59955",
   "metadata": {},
   "source": [
    "## Dataset Loading and Preparation"
   ]
  },
  {
   "cell_type": "code",
   "execution_count": 2,
   "id": "331b5ef5",
   "metadata": {
    "scrolled": true
   },
   "outputs": [
    {
     "data": {
      "text/html": [
       "<div>\n",
       "<style scoped>\n",
       "    .dataframe tbody tr th:only-of-type {\n",
       "        vertical-align: middle;\n",
       "    }\n",
       "\n",
       "    .dataframe tbody tr th {\n",
       "        vertical-align: top;\n",
       "    }\n",
       "\n",
       "    .dataframe thead th {\n",
       "        text-align: right;\n",
       "    }\n",
       "</style>\n",
       "<table border=\"1\" class=\"dataframe\">\n",
       "  <thead>\n",
       "    <tr style=\"text-align: right;\">\n",
       "      <th></th>\n",
       "      <th>Id</th>\n",
       "      <th>SepalLengthCm</th>\n",
       "      <th>SepalWidthCm</th>\n",
       "      <th>PetalLengthCm</th>\n",
       "      <th>PetalWidthCm</th>\n",
       "      <th>Species</th>\n",
       "    </tr>\n",
       "  </thead>\n",
       "  <tbody>\n",
       "    <tr>\n",
       "      <th>0</th>\n",
       "      <td>1</td>\n",
       "      <td>5.1</td>\n",
       "      <td>3.5</td>\n",
       "      <td>1.4</td>\n",
       "      <td>0.2</td>\n",
       "      <td>Iris-setosa</td>\n",
       "    </tr>\n",
       "    <tr>\n",
       "      <th>1</th>\n",
       "      <td>2</td>\n",
       "      <td>4.9</td>\n",
       "      <td>3.0</td>\n",
       "      <td>1.4</td>\n",
       "      <td>0.2</td>\n",
       "      <td>Iris-setosa</td>\n",
       "    </tr>\n",
       "    <tr>\n",
       "      <th>2</th>\n",
       "      <td>3</td>\n",
       "      <td>4.7</td>\n",
       "      <td>3.2</td>\n",
       "      <td>1.3</td>\n",
       "      <td>0.2</td>\n",
       "      <td>Iris-setosa</td>\n",
       "    </tr>\n",
       "    <tr>\n",
       "      <th>3</th>\n",
       "      <td>4</td>\n",
       "      <td>4.6</td>\n",
       "      <td>3.1</td>\n",
       "      <td>1.5</td>\n",
       "      <td>0.2</td>\n",
       "      <td>Iris-setosa</td>\n",
       "    </tr>\n",
       "    <tr>\n",
       "      <th>4</th>\n",
       "      <td>5</td>\n",
       "      <td>5.0</td>\n",
       "      <td>3.6</td>\n",
       "      <td>1.4</td>\n",
       "      <td>0.2</td>\n",
       "      <td>Iris-setosa</td>\n",
       "    </tr>\n",
       "  </tbody>\n",
       "</table>\n",
       "</div>"
      ],
      "text/plain": [
       "   Id  SepalLengthCm  SepalWidthCm  PetalLengthCm  PetalWidthCm      Species\n",
       "0   1            5.1           3.5            1.4           0.2  Iris-setosa\n",
       "1   2            4.9           3.0            1.4           0.2  Iris-setosa\n",
       "2   3            4.7           3.2            1.3           0.2  Iris-setosa\n",
       "3   4            4.6           3.1            1.5           0.2  Iris-setosa\n",
       "4   5            5.0           3.6            1.4           0.2  Iris-setosa"
      ]
     },
     "execution_count": 2,
     "metadata": {},
     "output_type": "execute_result"
    }
   ],
   "source": [
    "data = pd.read_csv(\"Iris.csv\")\n",
    "data.head()"
   ]
  },
  {
   "cell_type": "code",
   "execution_count": 3,
   "id": "c45ac38b",
   "metadata": {},
   "outputs": [
    {
     "data": {
      "text/html": [
       "<div>\n",
       "<style scoped>\n",
       "    .dataframe tbody tr th:only-of-type {\n",
       "        vertical-align: middle;\n",
       "    }\n",
       "\n",
       "    .dataframe tbody tr th {\n",
       "        vertical-align: top;\n",
       "    }\n",
       "\n",
       "    .dataframe thead th {\n",
       "        text-align: right;\n",
       "    }\n",
       "</style>\n",
       "<table border=\"1\" class=\"dataframe\">\n",
       "  <thead>\n",
       "    <tr style=\"text-align: right;\">\n",
       "      <th></th>\n",
       "      <th>SepalLengthCm</th>\n",
       "      <th>SepalWidthCm</th>\n",
       "      <th>PetalLengthCm</th>\n",
       "      <th>PetalWidthCm</th>\n",
       "    </tr>\n",
       "  </thead>\n",
       "  <tbody>\n",
       "    <tr>\n",
       "      <th>0</th>\n",
       "      <td>5.1</td>\n",
       "      <td>3.5</td>\n",
       "      <td>1.4</td>\n",
       "      <td>0.2</td>\n",
       "    </tr>\n",
       "    <tr>\n",
       "      <th>1</th>\n",
       "      <td>4.9</td>\n",
       "      <td>3.0</td>\n",
       "      <td>1.4</td>\n",
       "      <td>0.2</td>\n",
       "    </tr>\n",
       "    <tr>\n",
       "      <th>2</th>\n",
       "      <td>4.7</td>\n",
       "      <td>3.2</td>\n",
       "      <td>1.3</td>\n",
       "      <td>0.2</td>\n",
       "    </tr>\n",
       "    <tr>\n",
       "      <th>3</th>\n",
       "      <td>4.6</td>\n",
       "      <td>3.1</td>\n",
       "      <td>1.5</td>\n",
       "      <td>0.2</td>\n",
       "    </tr>\n",
       "    <tr>\n",
       "      <th>4</th>\n",
       "      <td>5.0</td>\n",
       "      <td>3.6</td>\n",
       "      <td>1.4</td>\n",
       "      <td>0.2</td>\n",
       "    </tr>\n",
       "  </tbody>\n",
       "</table>\n",
       "</div>"
      ],
      "text/plain": [
       "   SepalLengthCm  SepalWidthCm  PetalLengthCm  PetalWidthCm\n",
       "0            5.1           3.5            1.4           0.2\n",
       "1            4.9           3.0            1.4           0.2\n",
       "2            4.7           3.2            1.3           0.2\n",
       "3            4.6           3.1            1.5           0.2\n",
       "4            5.0           3.6            1.4           0.2"
      ]
     },
     "execution_count": 3,
     "metadata": {},
     "output_type": "execute_result"
    }
   ],
   "source": [
    "pca_data = data.iloc[:,1:5] # Id and Species columns weren't selected\n",
    "pca_data.head()"
   ]
  },
  {
   "cell_type": "markdown",
   "id": "b848e20c",
   "metadata": {},
   "source": [
    "## Standardization"
   ]
  },
  {
   "cell_type": "markdown",
   "id": "ccc85efd",
   "metadata": {},
   "source": [
    "Data standardization process. Because of this, the correlation matrix will be used when applying PCA"
   ]
  },
  {
   "cell_type": "code",
   "execution_count": 4,
   "id": "9a20019e",
   "metadata": {},
   "outputs": [],
   "source": [
    "std_scaler= StandardScaler()\n",
    "std_data= std_scaler.fit_transform(pca_data) # Data got standardized "
   ]
  },
  {
   "cell_type": "code",
   "execution_count": 5,
   "id": "a4b27d4a",
   "metadata": {},
   "outputs": [
    {
     "data": {
      "text/html": [
       "<div>\n",
       "<style scoped>\n",
       "    .dataframe tbody tr th:only-of-type {\n",
       "        vertical-align: middle;\n",
       "    }\n",
       "\n",
       "    .dataframe tbody tr th {\n",
       "        vertical-align: top;\n",
       "    }\n",
       "\n",
       "    .dataframe thead th {\n",
       "        text-align: right;\n",
       "    }\n",
       "</style>\n",
       "<table border=\"1\" class=\"dataframe\">\n",
       "  <thead>\n",
       "    <tr style=\"text-align: right;\">\n",
       "      <th></th>\n",
       "      <th>SepalLengthCm</th>\n",
       "      <th>SepalWidthCm</th>\n",
       "      <th>PetalLengthCm</th>\n",
       "      <th>PetalWidthCm</th>\n",
       "    </tr>\n",
       "  </thead>\n",
       "  <tbody>\n",
       "    <tr>\n",
       "      <th>0</th>\n",
       "      <td>-0.900681</td>\n",
       "      <td>1.032057</td>\n",
       "      <td>-1.341272</td>\n",
       "      <td>-1.312977</td>\n",
       "    </tr>\n",
       "    <tr>\n",
       "      <th>1</th>\n",
       "      <td>-1.143017</td>\n",
       "      <td>-0.124958</td>\n",
       "      <td>-1.341272</td>\n",
       "      <td>-1.312977</td>\n",
       "    </tr>\n",
       "    <tr>\n",
       "      <th>2</th>\n",
       "      <td>-1.385353</td>\n",
       "      <td>0.337848</td>\n",
       "      <td>-1.398138</td>\n",
       "      <td>-1.312977</td>\n",
       "    </tr>\n",
       "    <tr>\n",
       "      <th>3</th>\n",
       "      <td>-1.506521</td>\n",
       "      <td>0.106445</td>\n",
       "      <td>-1.284407</td>\n",
       "      <td>-1.312977</td>\n",
       "    </tr>\n",
       "    <tr>\n",
       "      <th>4</th>\n",
       "      <td>-1.021849</td>\n",
       "      <td>1.263460</td>\n",
       "      <td>-1.341272</td>\n",
       "      <td>-1.312977</td>\n",
       "    </tr>\n",
       "  </tbody>\n",
       "</table>\n",
       "</div>"
      ],
      "text/plain": [
       "   SepalLengthCm  SepalWidthCm  PetalLengthCm  PetalWidthCm\n",
       "0      -0.900681      1.032057      -1.341272     -1.312977\n",
       "1      -1.143017     -0.124958      -1.341272     -1.312977\n",
       "2      -1.385353      0.337848      -1.398138     -1.312977\n",
       "3      -1.506521      0.106445      -1.284407     -1.312977\n",
       "4      -1.021849      1.263460      -1.341272     -1.312977"
      ]
     },
     "execution_count": 5,
     "metadata": {},
     "output_type": "execute_result"
    }
   ],
   "source": [
    "std_data=pd.DataFrame(std_data,columns=pca_data.columns)\n",
    "std_data.head()"
   ]
  },
  {
   "cell_type": "markdown",
   "id": "16824db8",
   "metadata": {},
   "source": [
    "## Test of Sphericity"
   ]
  },
  {
   "cell_type": "markdown",
   "id": "1a87a1c7",
   "metadata": {},
   "source": [
    "$H_0$ : There is no correlation between the variables\n",
    "\n",
    "$H_1$ : There is correlation between the variables\n",
    "\n",
    "First, we do the Test of Sphericity to see if the variables are related. This test checks if the correlation matrix is the same as the identity matrix.\n",
    "\n",
    "The significance level ($\\alpha$) was set at 0.05."
   ]
  },
  {
   "cell_type": "code",
   "execution_count": 19,
   "id": "f93ac15d",
   "metadata": {},
   "outputs": [],
   "source": [
    "features = [data[i] for i in std_data.columns]"
   ]
  },
  {
   "cell_type": "code",
   "execution_count": 22,
   "id": "5a215eaf",
   "metadata": {
    "scrolled": true
   },
   "outputs": [
    {
     "data": {
      "text/html": [
       "<div>\n",
       "<style scoped>\n",
       "    .dataframe tbody tr th:only-of-type {\n",
       "        vertical-align: middle;\n",
       "    }\n",
       "\n",
       "    .dataframe tbody tr th {\n",
       "        vertical-align: top;\n",
       "    }\n",
       "\n",
       "    .dataframe thead th {\n",
       "        text-align: right;\n",
       "    }\n",
       "</style>\n",
       "<table border=\"1\" class=\"dataframe\">\n",
       "  <thead>\n",
       "    <tr style=\"text-align: right;\">\n",
       "      <th></th>\n",
       "      <th>DF</th>\n",
       "      <th>Test Statistic</th>\n",
       "      <th>p-Value</th>\n",
       "    </tr>\n",
       "  </thead>\n",
       "  <tbody>\n",
       "    <tr>\n",
       "      <th>0</th>\n",
       "      <td>3</td>\n",
       "      <td>295.059105</td>\n",
       "      <td>1.167047e-63</td>\n",
       "    </tr>\n",
       "  </tbody>\n",
       "</table>\n",
       "</div>"
      ],
      "text/plain": [
       "   DF  Test Statistic       p-Value\n",
       "0   3      295.059105  1.167047e-63"
      ]
     },
     "execution_count": 22,
     "metadata": {},
     "output_type": "execute_result"
    }
   ],
   "source": [
    "bartlett_test = stats.bartlett(*features)\n",
    "pd.DataFrame({'DF':[len(features) - 1], \n",
    "        'Test Statistic':[bartlett_test[0]], \n",
    "        'p-Value':[bartlett_test[1]]})"
   ]
  },
  {
   "cell_type": "markdown",
   "id": "78589f3c",
   "metadata": {},
   "source": [
    "Since the p-Value is less than 0.05 ($\\alpha$), the null hypothesis ($H_0$) is rejected. It can be said that there is a relationship between the variables"
   ]
  },
  {
   "cell_type": "markdown",
   "id": "b12740fb",
   "metadata": {},
   "source": [
    "## Determining the number of components\n"
   ]
  },
  {
   "cell_type": "markdown",
   "id": "688ebc39",
   "metadata": {},
   "source": [
    "The number of principal components will be determined using eigenvalues. \n",
    "\n",
    "The Kaiser method was used to decide on the number of principal components."
   ]
  },
  {
   "cell_type": "code",
   "execution_count": 23,
   "id": "f0705609",
   "metadata": {},
   "outputs": [],
   "source": [
    "eigen_vals , eigen_vec = np.linalg.eig(np.corrcoef(std_data.T))"
   ]
  },
  {
   "cell_type": "code",
   "execution_count": 24,
   "id": "efe4a54f",
   "metadata": {},
   "outputs": [],
   "source": [
    "sorted_eigen_val = np.sort(eigen_vals)[::-1]"
   ]
  },
  {
   "cell_type": "code",
   "execution_count": 25,
   "id": "1e81702a",
   "metadata": {},
   "outputs": [
    {
     "data": {
      "text/plain": [
       "array([2.91081808, 0.92122093, 0.14735328, 0.02060771])"
      ]
     },
     "execution_count": 25,
     "metadata": {},
     "output_type": "execute_result"
    }
   ],
   "source": [
    "sorted_eigen_val"
   ]
  },
  {
   "cell_type": "markdown",
   "id": "d138a8aa",
   "metadata": {},
   "source": [
    "The number of principal components was determined using the Kaiser method. Since there is only one eigenvalue greater than 1, the number of significant dimensions is also 1.\n",
    "\n",
    "The Iris dataset will be reduced to one dimension."
   ]
  },
  {
   "cell_type": "markdown",
   "id": "2e200017",
   "metadata": {},
   "source": [
    "## Principal Components Matrix"
   ]
  },
  {
   "cell_type": "markdown",
   "id": "f7b29b92",
   "metadata": {},
   "source": [
    "Each eigenvector is multiplied by the square root of its corresponding eigenvalue. \n",
    "This allows us to see which principal component each variable loads onto."
   ]
  },
  {
   "cell_type": "code",
   "execution_count": 26,
   "id": "4abb2321",
   "metadata": {},
   "outputs": [
    {
     "data": {
      "text/plain": [
       "array([[ 0.52237162, -0.37231836, -0.72101681,  0.26199559],\n",
       "       [-0.26335492, -0.92555649,  0.24203288, -0.12413481],\n",
       "       [ 0.58125401, -0.02109478,  0.14089226, -0.80115427],\n",
       "       [ 0.56561105, -0.06541577,  0.6338014 ,  0.52354627]])"
      ]
     },
     "execution_count": 26,
     "metadata": {},
     "output_type": "execute_result"
    }
   ],
   "source": [
    "eigen_vec"
   ]
  },
  {
   "cell_type": "code",
   "execution_count": 27,
   "id": "2ea1de97",
   "metadata": {},
   "outputs": [],
   "source": [
    "V = [j * eigen_vec[0:,i] for i,j in list(enumerate(np.sqrt(eigen_vals)))] "
   ]
  },
  {
   "cell_type": "code",
   "execution_count": 28,
   "id": "dabade9f",
   "metadata": {
    "scrolled": true
   },
   "outputs": [
    {
     "data": {
      "text/plain": [
       "array([[ 0.89122448, -0.35735211, -0.276774  ,  0.03761047],\n",
       "       [-0.44931298, -0.88835148,  0.09290825, -0.01782003],\n",
       "       [ 0.99168442, -0.02024682,  0.05408378, -0.11500878],\n",
       "       [ 0.96499579, -0.06278622,  0.24329495,  0.07515708]])"
      ]
     },
     "execution_count": 28,
     "metadata": {},
     "output_type": "execute_result"
    }
   ],
   "source": [
    "PCM = np.stack(V, axis=1) # Principal Components Matrix\n",
    "PCM"
   ]
  },
  {
   "cell_type": "markdown",
   "id": "e0bff343",
   "metadata": {},
   "source": [
    "Interpreting the Principal Components Matrix (PCM) (considering the absolute values of the loadings):\n",
    "\n",
    "- 0.89 of the 1st variable loads onto the 1st component.\n",
    "- 0.88 of the 2nd variable loads onto the 2nd component.\n",
    "- 0.99 of the 3rd variable loads onto the 1st component.\n",
    "- 0.96 of the 4th variable loads onto the 1st component."
   ]
  },
  {
   "cell_type": "markdown",
   "id": "2f8879dc",
   "metadata": {},
   "source": [
    "## Loadings Matrix"
   ]
  },
  {
   "cell_type": "markdown",
   "id": "0cc91caa",
   "metadata": {},
   "source": [
    "Through the Loadings Matrix (W), we can determine the proportion of variance explained by the principal components in the variables and the total variance.\n",
    "\n",
    "It is calculated using the squares of the elements of the Principal Components Matrix."
   ]
  },
  {
   "cell_type": "code",
   "execution_count": 29,
   "id": "8387e949",
   "metadata": {},
   "outputs": [
    {
     "data": {
      "text/plain": [
       "array([[0.794, 0.128, 0.077, 0.001],\n",
       "       [0.202, 0.789, 0.009, 0.   ],\n",
       "       [0.983, 0.   , 0.003, 0.013],\n",
       "       [0.931, 0.004, 0.059, 0.006]])"
      ]
     },
     "execution_count": 29,
     "metadata": {},
     "output_type": "execute_result"
    }
   ],
   "source": [
    "W = np.round(PCM ** 2,3)\n",
    "W"
   ]
  },
  {
   "cell_type": "code",
   "execution_count": 30,
   "id": "48be6025",
   "metadata": {},
   "outputs": [],
   "source": [
    "exp_var = np.array([sum(W[i,0:]) for i in range(4)]) # Proportion of variance explained in the variables"
   ]
  },
  {
   "cell_type": "code",
   "execution_count": 31,
   "id": "2a44d561",
   "metadata": {},
   "outputs": [],
   "source": [
    "principal_component = W[0:,0] # Significant principal component"
   ]
  },
  {
   "cell_type": "code",
   "execution_count": 32,
   "id": "d82d01e6",
   "metadata": {},
   "outputs": [
    {
     "data": {
      "text/html": [
       "<div>\n",
       "<style scoped>\n",
       "    .dataframe tbody tr th:only-of-type {\n",
       "        vertical-align: middle;\n",
       "    }\n",
       "\n",
       "    .dataframe tbody tr th {\n",
       "        vertical-align: top;\n",
       "    }\n",
       "\n",
       "    .dataframe thead th {\n",
       "        text-align: right;\n",
       "    }\n",
       "</style>\n",
       "<table border=\"1\" class=\"dataframe\">\n",
       "  <thead>\n",
       "    <tr style=\"text-align: right;\">\n",
       "      <th></th>\n",
       "      <th>SepalLengthCm</th>\n",
       "      <th>SepalWidthCm</th>\n",
       "      <th>PetalLengthCm</th>\n",
       "      <th>PetalWidthCm</th>\n",
       "    </tr>\n",
       "  </thead>\n",
       "  <tbody>\n",
       "    <tr>\n",
       "      <th>Proportion of variance explained in the variables</th>\n",
       "      <td>1.000</td>\n",
       "      <td>1.000</td>\n",
       "      <td>0.999</td>\n",
       "      <td>1.000</td>\n",
       "    </tr>\n",
       "    <tr>\n",
       "      <th>Proportion of variance explained by the significant component in the variables</th>\n",
       "      <td>0.794</td>\n",
       "      <td>0.202</td>\n",
       "      <td>0.983</td>\n",
       "      <td>0.931</td>\n",
       "    </tr>\n",
       "  </tbody>\n",
       "</table>\n",
       "</div>"
      ],
      "text/plain": [
       "                                                    SepalLengthCm  \\\n",
       "Proportion of variance explained in the variables           1.000   \n",
       "Proportion of variance explained by the signifi...          0.794   \n",
       "\n",
       "                                                    SepalWidthCm  \\\n",
       "Proportion of variance explained in the variables          1.000   \n",
       "Proportion of variance explained by the signifi...         0.202   \n",
       "\n",
       "                                                    PetalLengthCm  \\\n",
       "Proportion of variance explained in the variables           0.999   \n",
       "Proportion of variance explained by the signifi...          0.983   \n",
       "\n",
       "                                                    PetalWidthCm  \n",
       "Proportion of variance explained in the variables          1.000  \n",
       "Proportion of variance explained by the signifi...         0.931  "
      ]
     },
     "execution_count": 32,
     "metadata": {},
     "output_type": "execute_result"
    }
   ],
   "source": [
    "pd.DataFrame(np.array([exp_var,principal_component]),columns=pca_data.columns,index=[\"Proportion of variance explained in the variables\",\n",
    "                                                                   \"Proportion of variance explained by the significant component in the variables\"])"
   ]
  },
  {
   "cell_type": "code",
   "execution_count": 33,
   "id": "abadf638",
   "metadata": {},
   "outputs": [
    {
     "data": {
      "text/plain": [
       "array([0.72770452, 0.23030523, 0.03683832, 0.00515193])"
      ]
     },
     "execution_count": 33,
     "metadata": {},
     "output_type": "execute_result"
    }
   ],
   "source": [
    "eigen_vals / len(std_data.columns) # Explained variance ratios    "
   ]
  },
  {
   "cell_type": "markdown",
   "id": "54782f7e",
   "metadata": {},
   "source": [
    "The significant principal component explains 0.728 of the total variance. It is also important to note that the 2nd component explains 0.23 of the total variance, which is a significant amount."
   ]
  },
  {
   "cell_type": "markdown",
   "id": "dfa4ef00",
   "metadata": {},
   "source": [
    "## PCA"
   ]
  },
  {
   "cell_type": "markdown",
   "id": "ea2841f6",
   "metadata": {},
   "source": [
    "The principal component (PC1) is created using the eigenvector of the significant principal component on the standardized data.\n",
    "\n",
    "The equation used to create the principal component is:\n",
    "\n",
    "$y$ = 0.552 * $z_1$ - 0.263 * $z_2$ + 0.581 * $z_3$ + 0.565 * $z_4$"
   ]
  },
  {
   "cell_type": "code",
   "execution_count": 34,
   "id": "195f8bb2",
   "metadata": {},
   "outputs": [
    {
     "data": {
      "text/plain": [
       "array([ 0.52237162, -0.26335492,  0.58125401,  0.56561105])"
      ]
     },
     "execution_count": 34,
     "metadata": {},
     "output_type": "execute_result"
    }
   ],
   "source": [
    "eigen_vec[0:,0] # Eigenvector of the significant principal component"
   ]
  },
  {
   "cell_type": "code",
   "execution_count": 35,
   "id": "cd4f07b6",
   "metadata": {},
   "outputs": [],
   "source": [
    "f = [std_data.iloc[:,i] * j for i,j in enumerate(eigen_vec[0:,0])] # Multiplying the standardized data by the eigenvector"
   ]
  },
  {
   "cell_type": "code",
   "execution_count": 36,
   "id": "1376b15b",
   "metadata": {},
   "outputs": [],
   "source": [
    "y = pd.Series(np.sum(f,axis=0),name=\"PC1\") # PC1"
   ]
  },
  {
   "cell_type": "code",
   "execution_count": 37,
   "id": "8882c3e4",
   "metadata": {},
   "outputs": [
    {
     "data": {
      "text/html": [
       "<div>\n",
       "<style scoped>\n",
       "    .dataframe tbody tr th:only-of-type {\n",
       "        vertical-align: middle;\n",
       "    }\n",
       "\n",
       "    .dataframe tbody tr th {\n",
       "        vertical-align: top;\n",
       "    }\n",
       "\n",
       "    .dataframe thead th {\n",
       "        text-align: right;\n",
       "    }\n",
       "</style>\n",
       "<table border=\"1\" class=\"dataframe\">\n",
       "  <thead>\n",
       "    <tr style=\"text-align: right;\">\n",
       "      <th></th>\n",
       "      <th>PC1</th>\n",
       "      <th>Species</th>\n",
       "    </tr>\n",
       "  </thead>\n",
       "  <tbody>\n",
       "    <tr>\n",
       "      <th>34</th>\n",
       "      <td>-2.188676</td>\n",
       "      <td>Iris-setosa</td>\n",
       "    </tr>\n",
       "    <tr>\n",
       "      <th>61</th>\n",
       "      <td>0.438730</td>\n",
       "      <td>Iris-versicolor</td>\n",
       "    </tr>\n",
       "    <tr>\n",
       "      <th>66</th>\n",
       "      <td>0.348006</td>\n",
       "      <td>Iris-versicolor</td>\n",
       "    </tr>\n",
       "    <tr>\n",
       "      <th>120</th>\n",
       "      <td>2.040496</td>\n",
       "      <td>Iris-virginica</td>\n",
       "    </tr>\n",
       "    <tr>\n",
       "      <th>79</th>\n",
       "      <td>-0.047282</td>\n",
       "      <td>Iris-versicolor</td>\n",
       "    </tr>\n",
       "  </tbody>\n",
       "</table>\n",
       "</div>"
      ],
      "text/plain": [
       "          PC1          Species\n",
       "34  -2.188676      Iris-setosa\n",
       "61   0.438730  Iris-versicolor\n",
       "66   0.348006  Iris-versicolor\n",
       "120  2.040496   Iris-virginica\n",
       "79  -0.047282  Iris-versicolor"
      ]
     },
     "execution_count": 37,
     "metadata": {},
     "output_type": "execute_result"
    }
   ],
   "source": [
    "df_y = pd.concat((y,data[\"Species\"]),axis=1)\n",
    "df_y.sample(5)"
   ]
  },
  {
   "cell_type": "code",
   "execution_count": 73,
   "id": "09e3311b",
   "metadata": {},
   "outputs": [
    {
     "data": {
      "image/png": "[encoded data removed]",
      "text/plain": [
       "<Figure size 640x480 with 1 Axes>"
      ]
     },
     "metadata": {},
     "output_type": "display_data"
    }
   ],
   "source": [
    "sns.lineplot(data=df_y,y=\"PC1\",x=np.arange(150),hue=\"Species\")\n",
    "plt.title(\"PCA of IRIS DATASET\")\n",
    "plt.ylabel(\"PC1 (0.727)\")\n",
    "plt.xlabel(\"Index\")\n",
    "plt.legend().set_visible(False)\n",
    "\n",
    "for line, name in zip(plt.gca().lines, df_y['Species'].unique()):\n",
    "    y = line.get_ydata()[-1]   \n",
    "    x = line.get_xdata()[-1]   \n",
    "    color = line.get_color()   \n",
    "    plt.text(x+2, y-0.1, name, va='center', ha='left', color=color,fontweight = \"medium\")  \n",
    "    \n",
    "    \n",
    "sns.despine(top=True, right=True)\n",
    "\n",
    "plt.savefig(\"PCA.png\",dpi=300,bbox_inches='tight')"
   ]
  },
  {
   "cell_type": "markdown",
   "id": "54dfa747",
   "metadata": {},
   "source": [
    "Looking at the graph, it is easy to see the difference between the flower types using the created PC1. Setosa is better separated from the other two flower types."
   ]
  }
 ],
 "metadata": {
  "kernelspec": {
   "display_name": "Python 3 (ipykernel)",
   "language": "python",
   "name": "python3"
  },
  "language_info": {
   "codemirror_mode": {
    "name": "ipython",
    "version": 3
   },
   "file_extension": ".py",
   "mimetype": "text/x-python",
   "name": "python",
   "nbconvert_exporter": "python",
   "pygments_lexer": "ipython3",
   "version": "3.11.3"
  }
 },
 "nbformat": 4,
 "nbformat_minor": 5
}
